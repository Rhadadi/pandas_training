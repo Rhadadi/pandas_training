{
 "cells": [
  {
   "cell_type": "markdown",
   "metadata": {},
   "source": [
    "# SQL Query in Pandas\n",
    "\n",
    "http://blog.yhat.com/posts/pandasql-sql-for-pandas-dataframes.html"
   ]
  },
  {
   "cell_type": "code",
   "execution_count": 50,
   "metadata": {
    "ExecuteTime": {
     "end_time": "2017-10-01T00:15:22.197043Z",
     "start_time": "2017-10-01T00:15:22.187834Z"
    }
   },
   "outputs": [
    {
     "data": {
      "text/plain": [
       "'/Users/rhadadi/nbopen'"
      ]
     },
     "execution_count": 50,
     "metadata": {},
     "output_type": "execute_result"
    }
   ],
   "source": [
    "pwd"
   ]
  },
  {
   "cell_type": "code",
   "execution_count": 21,
   "metadata": {
    "ExecuteTime": {
     "end_time": "2017-09-30T23:19:01.831514Z",
     "start_time": "2017-09-30T23:19:01.643768Z"
    },
    "run_control": {
     "frozen": false,
     "read_only": false
    }
   },
   "outputs": [],
   "source": [
    "import sas7bdat as sas\n",
    "import pandasql as pdsql\n",
    "data = sas.SAS7BDAT('/Users/rhadadi/anaconda3/pkgs/r-haven-1.0.0-r3.4.1_0/lib/R/library/haven/examples/iris.sas7bdat')\n"
   ]
  },
  {
   "cell_type": "code",
   "execution_count": 10,
   "metadata": {
    "ExecuteTime": {
     "end_time": "2017-09-30T23:15:52.286353Z",
     "start_time": "2017-09-30T23:15:52.260590Z"
    }
   },
   "outputs": [
    {
     "data": {
      "text/html": [
       "<div>\n",
       "<style>\n",
       "    .dataframe thead tr:only-child th {\n",
       "        text-align: right;\n",
       "    }\n",
       "\n",
       "    .dataframe thead th {\n",
       "        text-align: left;\n",
       "    }\n",
       "\n",
       "    .dataframe tbody tr th {\n",
       "        vertical-align: top;\n",
       "    }\n",
       "</style>\n",
       "<table border=\"1\" class=\"dataframe\">\n",
       "  <thead>\n",
       "    <tr style=\"text-align: right;\">\n",
       "      <th></th>\n",
       "      <th>Sepal_Length</th>\n",
       "      <th>Sepal_Width</th>\n",
       "      <th>Petal_Length</th>\n",
       "      <th>Petal_Width</th>\n",
       "      <th>Species</th>\n",
       "    </tr>\n",
       "  </thead>\n",
       "  <tbody>\n",
       "    <tr>\n",
       "      <th>0</th>\n",
       "      <td>5.1</td>\n",
       "      <td>3.5</td>\n",
       "      <td>1.4</td>\n",
       "      <td>0.2</td>\n",
       "      <td>setosa</td>\n",
       "    </tr>\n",
       "    <tr>\n",
       "      <th>1</th>\n",
       "      <td>4.9</td>\n",
       "      <td>3.0</td>\n",
       "      <td>1.4</td>\n",
       "      <td>0.2</td>\n",
       "      <td>setosa</td>\n",
       "    </tr>\n",
       "    <tr>\n",
       "      <th>2</th>\n",
       "      <td>4.7</td>\n",
       "      <td>3.2</td>\n",
       "      <td>1.3</td>\n",
       "      <td>0.2</td>\n",
       "      <td>setosa</td>\n",
       "    </tr>\n",
       "    <tr>\n",
       "      <th>3</th>\n",
       "      <td>4.6</td>\n",
       "      <td>3.1</td>\n",
       "      <td>1.5</td>\n",
       "      <td>0.2</td>\n",
       "      <td>setosa</td>\n",
       "    </tr>\n",
       "    <tr>\n",
       "      <th>4</th>\n",
       "      <td>5.0</td>\n",
       "      <td>3.6</td>\n",
       "      <td>1.4</td>\n",
       "      <td>0.2</td>\n",
       "      <td>setosa</td>\n",
       "    </tr>\n",
       "  </tbody>\n",
       "</table>\n",
       "</div>"
      ],
      "text/plain": [
       "   Sepal_Length  Sepal_Width  Petal_Length  Petal_Width Species\n",
       "0           5.1          3.5           1.4          0.2  setosa\n",
       "1           4.9          3.0           1.4          0.2  setosa\n",
       "2           4.7          3.2           1.3          0.2  setosa\n",
       "3           4.6          3.1           1.5          0.2  setosa\n",
       "4           5.0          3.6           1.4          0.2  setosa"
      ]
     },
     "execution_count": 10,
     "metadata": {},
     "output_type": "execute_result"
    }
   ],
   "source": [
    "df = data.to_data_frame()\n",
    "df.head()"
   ]
  },
  {
   "cell_type": "code",
   "execution_count": 22,
   "metadata": {
    "ExecuteTime": {
     "end_time": "2017-09-30T23:19:05.762704Z",
     "start_time": "2017-09-30T23:19:05.758484Z"
    }
   },
   "outputs": [],
   "source": [
    "pysql = lambda q: pdsql.sqldf(q, globals())\n"
   ]
  },
  {
   "cell_type": "code",
   "execution_count": 25,
   "metadata": {
    "ExecuteTime": {
     "end_time": "2017-09-30T23:20:49.577286Z",
     "start_time": "2017-09-30T23:20:49.573325Z"
    }
   },
   "outputs": [],
   "source": [
    "str1 = \"select Sepal_Length, Species from df where Petal_Length >= 1.4  limit 3;\"\n"
   ]
  },
  {
   "cell_type": "code",
   "execution_count": 26,
   "metadata": {
    "ExecuteTime": {
     "end_time": "2017-09-30T23:20:50.683218Z",
     "start_time": "2017-09-30T23:20:50.654836Z"
    }
   },
   "outputs": [
    {
     "data": {
      "text/html": [
       "<div>\n",
       "<style>\n",
       "    .dataframe thead tr:only-child th {\n",
       "        text-align: right;\n",
       "    }\n",
       "\n",
       "    .dataframe thead th {\n",
       "        text-align: left;\n",
       "    }\n",
       "\n",
       "    .dataframe tbody tr th {\n",
       "        vertical-align: top;\n",
       "    }\n",
       "</style>\n",
       "<table border=\"1\" class=\"dataframe\">\n",
       "  <thead>\n",
       "    <tr style=\"text-align: right;\">\n",
       "      <th></th>\n",
       "      <th>Sepal_Length</th>\n",
       "      <th>Species</th>\n",
       "    </tr>\n",
       "  </thead>\n",
       "  <tbody>\n",
       "    <tr>\n",
       "      <th>0</th>\n",
       "      <td>5.1</td>\n",
       "      <td>setosa</td>\n",
       "    </tr>\n",
       "    <tr>\n",
       "      <th>1</th>\n",
       "      <td>4.9</td>\n",
       "      <td>setosa</td>\n",
       "    </tr>\n",
       "    <tr>\n",
       "      <th>2</th>\n",
       "      <td>4.6</td>\n",
       "      <td>setosa</td>\n",
       "    </tr>\n",
       "  </tbody>\n",
       "</table>\n",
       "</div>"
      ],
      "text/plain": [
       "   Sepal_Length Species\n",
       "0           5.1  setosa\n",
       "1           4.9  setosa\n",
       "2           4.6  setosa"
      ]
     },
     "execution_count": 26,
     "metadata": {},
     "output_type": "execute_result"
    }
   ],
   "source": [
    "df1 = pysql(str1)\n",
    "df1.head()"
   ]
  },
  {
   "cell_type": "code",
   "execution_count": 29,
   "metadata": {
    "ExecuteTime": {
     "end_time": "2017-09-30T23:22:26.465716Z",
     "start_time": "2017-09-30T23:22:26.429703Z"
    }
   },
   "outputs": [
    {
     "data": {
      "text/html": [
       "<div>\n",
       "<style>\n",
       "    .dataframe thead tr:only-child th {\n",
       "        text-align: right;\n",
       "    }\n",
       "\n",
       "    .dataframe thead th {\n",
       "        text-align: left;\n",
       "    }\n",
       "\n",
       "    .dataframe tbody tr th {\n",
       "        vertical-align: top;\n",
       "    }\n",
       "</style>\n",
       "<table border=\"1\" class=\"dataframe\">\n",
       "  <thead>\n",
       "    <tr style=\"text-align: right;\">\n",
       "      <th></th>\n",
       "      <th>Sepal_Length</th>\n",
       "      <th>Species</th>\n",
       "    </tr>\n",
       "  </thead>\n",
       "  <tbody>\n",
       "    <tr>\n",
       "      <th>0</th>\n",
       "      <td>5.1</td>\n",
       "      <td>setosa</td>\n",
       "    </tr>\n",
       "    <tr>\n",
       "      <th>1</th>\n",
       "      <td>4.9</td>\n",
       "      <td>setosa</td>\n",
       "    </tr>\n",
       "    <tr>\n",
       "      <th>2</th>\n",
       "      <td>4.6</td>\n",
       "      <td>setosa</td>\n",
       "    </tr>\n",
       "  </tbody>\n",
       "</table>\n",
       "</div>"
      ],
      "text/plain": [
       "   Sepal_Length Species\n",
       "0           5.1  setosa\n",
       "1           4.9  setosa\n",
       "2           4.6  setosa"
      ]
     },
     "execution_count": 29,
     "metadata": {},
     "output_type": "execute_result"
    }
   ],
   "source": [
    "pdsql.sqldf(str1, globals())"
   ]
  },
  {
   "cell_type": "code",
   "execution_count": 30,
   "metadata": {
    "ExecuteTime": {
     "end_time": "2017-09-30T23:29:40.436702Z",
     "start_time": "2017-09-30T23:29:40.408153Z"
    }
   },
   "outputs": [
    {
     "data": {
      "text/html": [
       "<div>\n",
       "<style>\n",
       "    .dataframe thead tr:only-child th {\n",
       "        text-align: right;\n",
       "    }\n",
       "\n",
       "    .dataframe thead th {\n",
       "        text-align: left;\n",
       "    }\n",
       "\n",
       "    .dataframe tbody tr th {\n",
       "        vertical-align: top;\n",
       "    }\n",
       "</style>\n",
       "<table border=\"1\" class=\"dataframe\">\n",
       "  <thead>\n",
       "    <tr style=\"text-align: right;\">\n",
       "      <th></th>\n",
       "      <th>Sepal_Length</th>\n",
       "      <th>Species_min</th>\n",
       "      <th>max_petal</th>\n",
       "    </tr>\n",
       "  </thead>\n",
       "  <tbody>\n",
       "    <tr>\n",
       "      <th>0</th>\n",
       "      <td>6.3</td>\n",
       "      <td>virgin</td>\n",
       "      <td>2.5</td>\n",
       "    </tr>\n",
       "    <tr>\n",
       "      <th>1</th>\n",
       "      <td>5.9</td>\n",
       "      <td>versic</td>\n",
       "      <td>1.8</td>\n",
       "    </tr>\n",
       "    <tr>\n",
       "      <th>2</th>\n",
       "      <td>5.0</td>\n",
       "      <td>setosa</td>\n",
       "      <td>0.6</td>\n",
       "    </tr>\n",
       "  </tbody>\n",
       "</table>\n",
       "</div>"
      ],
      "text/plain": [
       "   Sepal_Length Species_min  max_petal\n",
       "0           6.3      virgin        2.5\n",
       "1           5.9      versic        1.8\n",
       "2           5.0      setosa        0.6"
      ]
     },
     "execution_count": 30,
     "metadata": {},
     "output_type": "execute_result"
    }
   ],
   "source": [
    "str2 = \"select Sepal_Length, min(Species) as Species_min, max(Petal_Width) as max_petal from df group by Species order by Sepal_Length DESC;\"\n",
    "pdsql.sqldf(str2, globals())"
   ]
  },
  {
   "cell_type": "code",
   "execution_count": 34,
   "metadata": {
    "ExecuteTime": {
     "end_time": "2017-10-01T00:06:43.335209Z",
     "start_time": "2017-10-01T00:06:43.302680Z"
    }
   },
   "outputs": [
    {
     "data": {
      "text/html": [
       "<div>\n",
       "<style>\n",
       "    .dataframe thead tr:only-child th {\n",
       "        text-align: right;\n",
       "    }\n",
       "\n",
       "    .dataframe thead th {\n",
       "        text-align: left;\n",
       "    }\n",
       "\n",
       "    .dataframe tbody tr th {\n",
       "        vertical-align: top;\n",
       "    }\n",
       "</style>\n",
       "<table border=\"1\" class=\"dataframe\">\n",
       "  <thead>\n",
       "    <tr style=\"text-align: right;\">\n",
       "      <th></th>\n",
       "      <th>date</th>\n",
       "      <th>beef</th>\n",
       "      <th>veal</th>\n",
       "      <th>pork</th>\n",
       "      <th>lamb_and_mutton</th>\n",
       "      <th>broilers</th>\n",
       "      <th>other_chicken</th>\n",
       "      <th>turkey</th>\n",
       "    </tr>\n",
       "  </thead>\n",
       "  <tbody>\n",
       "    <tr>\n",
       "      <th>0</th>\n",
       "      <td>1944-01-01</td>\n",
       "      <td>751.0</td>\n",
       "      <td>85.0</td>\n",
       "      <td>1280.0</td>\n",
       "      <td>89.0</td>\n",
       "      <td>NaN</td>\n",
       "      <td>NaN</td>\n",
       "      <td>NaN</td>\n",
       "    </tr>\n",
       "    <tr>\n",
       "      <th>1</th>\n",
       "      <td>1944-02-01</td>\n",
       "      <td>713.0</td>\n",
       "      <td>77.0</td>\n",
       "      <td>1169.0</td>\n",
       "      <td>72.0</td>\n",
       "      <td>NaN</td>\n",
       "      <td>NaN</td>\n",
       "      <td>NaN</td>\n",
       "    </tr>\n",
       "    <tr>\n",
       "      <th>2</th>\n",
       "      <td>1944-03-01</td>\n",
       "      <td>741.0</td>\n",
       "      <td>90.0</td>\n",
       "      <td>1128.0</td>\n",
       "      <td>75.0</td>\n",
       "      <td>NaN</td>\n",
       "      <td>NaN</td>\n",
       "      <td>NaN</td>\n",
       "    </tr>\n",
       "    <tr>\n",
       "      <th>3</th>\n",
       "      <td>1944-04-01</td>\n",
       "      <td>650.0</td>\n",
       "      <td>89.0</td>\n",
       "      <td>978.0</td>\n",
       "      <td>66.0</td>\n",
       "      <td>NaN</td>\n",
       "      <td>NaN</td>\n",
       "      <td>NaN</td>\n",
       "    </tr>\n",
       "    <tr>\n",
       "      <th>4</th>\n",
       "      <td>1944-05-01</td>\n",
       "      <td>681.0</td>\n",
       "      <td>106.0</td>\n",
       "      <td>1029.0</td>\n",
       "      <td>78.0</td>\n",
       "      <td>NaN</td>\n",
       "      <td>NaN</td>\n",
       "      <td>NaN</td>\n",
       "    </tr>\n",
       "  </tbody>\n",
       "</table>\n",
       "</div>"
      ],
      "text/plain": [
       "        date   beef   veal    pork  lamb_and_mutton  broilers  other_chicken  \\\n",
       "0 1944-01-01  751.0   85.0  1280.0             89.0       NaN            NaN   \n",
       "1 1944-02-01  713.0   77.0  1169.0             72.0       NaN            NaN   \n",
       "2 1944-03-01  741.0   90.0  1128.0             75.0       NaN            NaN   \n",
       "3 1944-04-01  650.0   89.0   978.0             66.0       NaN            NaN   \n",
       "4 1944-05-01  681.0  106.0  1029.0             78.0       NaN            NaN   \n",
       "\n",
       "   turkey  \n",
       "0     NaN  \n",
       "1     NaN  \n",
       "2     NaN  \n",
       "3     NaN  \n",
       "4     NaN  "
      ]
     },
     "execution_count": 34,
     "metadata": {},
     "output_type": "execute_result"
    }
   ],
   "source": [
    "from pandasql import sqldf\n",
    "from pandasql import load_meat, load_births\n",
    "\n",
    "meat = load_meat()\n",
    "births = load_births()\n",
    "\n",
    "meat.head()"
   ]
  },
  {
   "cell_type": "code",
   "execution_count": 35,
   "metadata": {
    "ExecuteTime": {
     "end_time": "2017-10-01T00:07:17.289286Z",
     "start_time": "2017-10-01T00:07:16.429335Z"
    }
   },
   "outputs": [
    {
     "name": "stderr",
     "output_type": "stream",
     "text": [
      "/Users/rhadadi/anaconda3/lib/python3.5/site-packages/ipykernel/__main__.py:29: FutureWarning: pd.rolling_mean is deprecated for Series and will be removed in a future version, replace with \n",
      "\tSeries.rolling(center=False,window=12).mean()\n",
      "/Users/rhadadi/anaconda3/lib/python3.5/site-packages/ipykernel/__main__.py:34: FutureWarning: pd.rolling_mean is deprecated for Series and will be removed in a future version, replace with \n",
      "\tSeries.rolling(center=False,window=12).mean()\n"
     ]
    },
    {
     "data": {
      "image/png": "[encoded data removed]",
      "text/plain": [
       "<matplotlib.figure.Figure at 0x10875de48>"
      ]
     },
     "metadata": {},
     "output_type": "display_data"
    }
   ],
   "source": [
    "import matplotlib.pyplot as plt\n",
    "from pandasql import *\n",
    "import pandas as pd\n",
    "\n",
    "pysqldf = lambda q: sqldf(q, globals())\n",
    "\n",
    "q  = \"\"\"\n",
    "SELECT\n",
    "  m.date\n",
    "  , m.beef\n",
    "  , b.births\n",
    "FROM\n",
    "  meat m\n",
    "LEFT JOIN\n",
    "  births b\n",
    "    ON m.date = b.date\n",
    "WHERE\n",
    "    m.date > '1974-12-31';\n",
    "\"\"\"\n",
    "\n",
    "meat = load_meat()\n",
    "births = load_births()\n",
    "\n",
    "df = pysqldf(q)\n",
    "df.births = df.births.fillna(method='backfill')\n",
    "\n",
    "fig = plt.figure()\n",
    "ax1 = fig.add_subplot(111)\n",
    "ax1.plot(pd.rolling_mean(df['beef'], 12), color='b')\n",
    "ax1.set_xlabel('months since 1975')\n",
    "ax1.set_ylabel('cattle slaughtered', color='b')\n",
    "\n",
    "ax2 = ax1.twinx()\n",
    "ax2.plot(pd.rolling_mean(df['births'], 12), color='r')\n",
    "ax2.set_ylabel('babies born', color='r')\n",
    "plt.title(\"Beef Consumption and the Birth Rate\")\n",
    "plt.show()\n"
   ]
  },
  {
   "cell_type": "code",
   "execution_count": 36,
   "metadata": {
    "ExecuteTime": {
     "end_time": "2017-10-01T00:08:39.024429Z",
     "start_time": "2017-10-01T00:08:38.966675Z"
    }
   },
   "outputs": [
    {
     "name": "stdout",
     "output_type": "stream",
     "text": [
      "                         date   beef   veal    pork  lamb_and_mutton broilers  \\\n",
      "0  1944-01-01 00:00:00.000000  751.0   85.0  1280.0             89.0     None   \n",
      "1  1944-02-01 00:00:00.000000  713.0   77.0  1169.0             72.0     None   \n",
      "2  1944-03-01 00:00:00.000000  741.0   90.0  1128.0             75.0     None   \n",
      "3  1944-04-01 00:00:00.000000  650.0   89.0   978.0             66.0     None   \n",
      "4  1944-05-01 00:00:00.000000  681.0  106.0  1029.0             78.0     None   \n",
      "5  1944-06-01 00:00:00.000000  658.0  125.0   962.0             79.0     None   \n",
      "6  1944-07-01 00:00:00.000000  662.0  142.0   796.0             82.0     None   \n",
      "7  1944-08-01 00:00:00.000000  787.0  175.0   748.0             87.0     None   \n",
      "8  1944-09-01 00:00:00.000000  774.0  182.0   678.0             91.0     None   \n",
      "9  1944-10-01 00:00:00.000000  834.0  215.0   777.0            100.0     None   \n",
      "\n",
      "  other_chicken turkey  \n",
      "0          None   None  \n",
      "1          None   None  \n",
      "2          None   None  \n",
      "3          None   None  \n",
      "4          None   None  \n",
      "5          None   None  \n",
      "6          None   None  \n",
      "7          None   None  \n",
      "8          None   None  \n",
      "9          None   None  \n"
     ]
    }
   ],
   "source": [
    "q = \"\"\"\n",
    "    SELECT\n",
    "        *\n",
    "    FROM\n",
    "        meat\n",
    "    LIMIT 10;\"\"\"\n",
    "\n",
    "print(sqldf(q, locals()))"
   ]
  },
  {
   "cell_type": "code",
   "execution_count": 42,
   "metadata": {
    "ExecuteTime": {
     "end_time": "2017-10-01T00:10:45.010751Z",
     "start_time": "2017-10-01T00:10:44.980586Z"
    }
   },
   "outputs": [
    {
     "name": "stdout",
     "output_type": "stream",
     "text": [
      "   strftime(\"%Y\", date)  SUM(births)\n",
      "0                  1975      3136965\n",
      "1                  1976      6304156\n",
      "2                  1979      3333279\n",
      "3                  1982      3612258\n",
      "4                  1983      7333238\n",
      "5                  1986      7308074\n",
      "6                  1987      3760561\n",
      "7                  1988      3756547\n",
      "8                  1990      7718904\n",
      "9                  1991     11714356\n",
      "10                 1993      8194907\n",
      "11                 1995      4000240\n",
      "12                 1996      3952767\n",
      "13                 1997      3899589\n",
      "14                 1998      3891494\n",
      "15                 1999      3880894\n",
      "16                 2000      3941553\n",
      "17                 2001      8018231\n",
      "18                 2002      4025933\n",
      "19                 2003      4021726\n",
      "20                 2005      8210950\n",
      "21                 2007      4138349\n",
      "22                 2008      4265555\n",
      "23                 2011      4247694\n",
      "24                 2012      4130665\n"
     ]
    }
   ],
   "source": [
    "# births per year\n",
    "q = \"\"\" \n",
    "    SELECT\n",
    "        strftime(\"%Y\", date)\n",
    "        , SUM(births)\n",
    "    FROM births\n",
    "    GROUP BY 1\n",
    "    ORDER BY 1; \n",
    "\"\"\"\n",
    "\n",
    "print(sqldf(q, locals()))"
   ]
  },
  {
   "cell_type": "code",
   "execution_count": 44,
   "metadata": {
    "ExecuteTime": {
     "end_time": "2017-10-01T00:11:40.417249Z",
     "start_time": "2017-10-01T00:11:40.343878Z"
    }
   },
   "outputs": [
    {
     "name": "stdout",
     "output_type": "stream",
     "text": [
      "                         date  births    beef\n",
      "0  1975-01-01 00:00:00.000000  265775  2106.0\n",
      "1  1975-02-01 00:00:00.000000  241045  1845.0\n",
      "2  1975-03-01 00:00:00.000000  268849  1891.0\n",
      "3  1975-04-01 00:00:00.000000  247455  1895.0\n",
      "4  1975-05-01 00:00:00.000000  254545  1849.0\n"
     ]
    }
   ],
   "source": [
    "# joining meats + births on date\n",
    "q = \"\"\"\n",
    "    SELECT\n",
    "        m.date\n",
    "        , b.births\n",
    "        , m.beef\n",
    "    FROM\n",
    "        meat m\n",
    "    INNER JOIN\n",
    "        births b\n",
    "            on m.date = b.date\n",
    "    ORDER BY\n",
    "        m.date\n",
    "    LIMIT 100;\n",
    "    \"\"\"\n",
    "\n",
    "joined = pysqldf(q)\n",
    "print(joined.head())"
   ]
  },
  {
   "cell_type": "code",
   "execution_count": 45,
   "metadata": {
    "ExecuteTime": {
     "end_time": "2017-10-01T00:11:54.511335Z",
     "start_time": "2017-10-01T00:11:54.476393Z"
    }
   },
   "outputs": [
    {
     "data": {
      "text/html": [
       "<div>\n",
       "<style>\n",
       "    .dataframe thead tr:only-child th {\n",
       "        text-align: right;\n",
       "    }\n",
       "\n",
       "    .dataframe thead th {\n",
       "        text-align: left;\n",
       "    }\n",
       "\n",
       "    .dataframe tbody tr th {\n",
       "        vertical-align: top;\n",
       "    }\n",
       "</style>\n",
       "<table border=\"1\" class=\"dataframe\">\n",
       "  <thead>\n",
       "    <tr style=\"text-align: right;\">\n",
       "      <th></th>\n",
       "      <th>date</th>\n",
       "      <th>beef</th>\n",
       "      <th>veal</th>\n",
       "      <th>pork</th>\n",
       "      <th>lamb_and_mutton</th>\n",
       "      <th>broilers</th>\n",
       "      <th>other_chicken</th>\n",
       "      <th>turkey</th>\n",
       "    </tr>\n",
       "  </thead>\n",
       "  <tbody>\n",
       "    <tr>\n",
       "      <th>0</th>\n",
       "      <td>1944-01-01</td>\n",
       "      <td>751.0</td>\n",
       "      <td>85.0</td>\n",
       "      <td>1280.0</td>\n",
       "      <td>89.0</td>\n",
       "      <td>NaN</td>\n",
       "      <td>NaN</td>\n",
       "      <td>NaN</td>\n",
       "    </tr>\n",
       "    <tr>\n",
       "      <th>1</th>\n",
       "      <td>1944-02-01</td>\n",
       "      <td>713.0</td>\n",
       "      <td>77.0</td>\n",
       "      <td>1169.0</td>\n",
       "      <td>72.0</td>\n",
       "      <td>NaN</td>\n",
       "      <td>NaN</td>\n",
       "      <td>NaN</td>\n",
       "    </tr>\n",
       "    <tr>\n",
       "      <th>2</th>\n",
       "      <td>1944-03-01</td>\n",
       "      <td>741.0</td>\n",
       "      <td>90.0</td>\n",
       "      <td>1128.0</td>\n",
       "      <td>75.0</td>\n",
       "      <td>NaN</td>\n",
       "      <td>NaN</td>\n",
       "      <td>NaN</td>\n",
       "    </tr>\n",
       "    <tr>\n",
       "      <th>3</th>\n",
       "      <td>1944-04-01</td>\n",
       "      <td>650.0</td>\n",
       "      <td>89.0</td>\n",
       "      <td>978.0</td>\n",
       "      <td>66.0</td>\n",
       "      <td>NaN</td>\n",
       "      <td>NaN</td>\n",
       "      <td>NaN</td>\n",
       "    </tr>\n",
       "    <tr>\n",
       "      <th>4</th>\n",
       "      <td>1944-05-01</td>\n",
       "      <td>681.0</td>\n",
       "      <td>106.0</td>\n",
       "      <td>1029.0</td>\n",
       "      <td>78.0</td>\n",
       "      <td>NaN</td>\n",
       "      <td>NaN</td>\n",
       "      <td>NaN</td>\n",
       "    </tr>\n",
       "  </tbody>\n",
       "</table>\n",
       "</div>"
      ],
      "text/plain": [
       "        date   beef   veal    pork  lamb_and_mutton  broilers  other_chicken  \\\n",
       "0 1944-01-01  751.0   85.0  1280.0             89.0       NaN            NaN   \n",
       "1 1944-02-01  713.0   77.0  1169.0             72.0       NaN            NaN   \n",
       "2 1944-03-01  741.0   90.0  1128.0             75.0       NaN            NaN   \n",
       "3 1944-04-01  650.0   89.0   978.0             66.0       NaN            NaN   \n",
       "4 1944-05-01  681.0  106.0  1029.0             78.0       NaN            NaN   \n",
       "\n",
       "   turkey  \n",
       "0     NaN  \n",
       "1     NaN  \n",
       "2     NaN  \n",
       "3     NaN  \n",
       "4     NaN  "
      ]
     },
     "execution_count": 45,
     "metadata": {},
     "output_type": "execute_result"
    }
   ],
   "source": [
    "meat.head()"
   ]
  },
  {
   "cell_type": "code",
   "execution_count": 46,
   "metadata": {
    "ExecuteTime": {
     "end_time": "2017-10-01T00:12:23.631947Z",
     "start_time": "2017-10-01T00:12:23.577017Z"
    }
   },
   "outputs": [
    {
     "name": "stdout",
     "output_type": "stream",
     "text": [
      "                         date    beef  veal    pork  lamb_and_mutton\n",
      "0  2012-11-01 00:00:00.000000  2206.6  10.1  2078.7             12.4\n",
      "1  2012-10-01 00:00:00.000000  2343.7  10.3  2210.4             14.2\n",
      "2  2012-09-01 00:00:00.000000  2016.0   8.8  1911.0             12.5\n",
      "3  2012-08-01 00:00:00.000000  2367.5  10.1  1997.9             14.2\n",
      "4  2012-07-01 00:00:00.000000  2200.8   9.5  1721.8             12.5\n",
      "5  2012-06-01 00:00:00.000000  2252.1   8.9  1750.4             12.4\n",
      "6  2012-05-01 00:00:00.000000  2232.0  10.4  1926.8             13.6\n",
      "7  2012-04-01 00:00:00.000000  1990.6   9.9  1841.7             12.9\n",
      "8  2012-03-01 00:00:00.000000  2159.8  10.0  1987.9             14.2\n",
      "9  2012-02-01 00:00:00.000000  2009.0   9.8  1882.9             12.3\n"
     ]
    }
   ],
   "source": [
    "q = \"\"\"\n",
    "    SELECT\n",
    "        date\n",
    "        , beef\n",
    "        , veal\n",
    "        , pork\n",
    "        , lamb_and_mutton\n",
    "    FROM\n",
    "        meat\n",
    "    WHERE\n",
    "        lamb_and_mutton >= veal\n",
    "    ORDER BY date DESC\n",
    "    LIMIT 10;\n",
    "    \"\"\"\n",
    "\n",
    "print(pysqldf(q))"
   ]
  },
  {
   "cell_type": "code",
   "execution_count": 47,
   "metadata": {
    "ExecuteTime": {
     "end_time": "2017-10-01T00:13:08.454278Z",
     "start_time": "2017-10-01T00:13:08.357261Z"
    }
   },
   "outputs": [
    {
     "name": "stdout",
     "output_type": "stream",
     "text": [
      "                         date    beef   veal    pork  lamb_and_mutton  \\\n",
      "0  1989-12-01 00:00:00.000000  1827.0   25.0  1288.0             31.0   \n",
      "1  2001-01-01 00:00:00.000000  2205.0   18.0  1693.0             19.0   \n",
      "2  1975-06-01 00:00:00.000000  1849.0   63.0   889.0             31.0   \n",
      "3  1965-10-01 00:00:00.000000  1603.0   88.0   920.0             57.0   \n",
      "4  1956-05-01 00:00:00.000000  1194.0  122.0   777.0             54.0   \n",
      "5  1996-12-01 00:00:00.000000  1950.0   31.0  1429.0             22.0   \n",
      "6  1956-11-01 00:00:00.000000  1201.0  141.0  1011.0             58.0   \n",
      "7  2012-02-01 00:00:00.000000  2009.0    9.8  1882.9             12.3   \n",
      "8  1981-08-01 00:00:00.000000  1828.0   33.0  1157.0             25.0   \n",
      "9  2002-01-01 00:00:00.000000  2331.0   16.9  1717.0             17.7   \n",
      "\n",
      "   broilers  other_chicken  turkey  \n",
      "0    1491.1            NaN   334.9  \n",
      "1    2622.2           42.7   461.2  \n",
      "2     683.1            NaN   138.4  \n",
      "3     456.9            NaN   262.1  \n",
      "4       NaN            NaN     NaN  \n",
      "5    2099.8            NaN   410.9  \n",
      "6       NaN            NaN     NaN  \n",
      "7    2954.0           38.8   466.8  \n",
      "8    1003.8            NaN   261.7  \n",
      "9    2779.9           48.0   482.7  \n"
     ]
    }
   ],
   "source": [
    "q = \"\"\"SELECT \n",
    "    *\n",
    "    FROM\n",
    "        meat\n",
    "    ORDER BY RANDOM()\n",
    "    LIMIT 10;\"\"\"\n",
    "print(pysqldf(q))"
   ]
  },
  {
   "cell_type": "code",
   "execution_count": 48,
   "metadata": {
    "ExecuteTime": {
     "end_time": "2017-10-01T00:13:28.065751Z",
     "start_time": "2017-10-01T00:13:27.990117Z"
    }
   },
   "outputs": [
    {
     "name": "stdout",
     "output_type": "stream",
     "text": [
      "                          date        meat_type   value\n",
      "0   1944-01-01 00:00:00.000000             beef   751.0\n",
      "1   1944-01-01 00:00:00.000000             veal    85.0\n",
      "2   1944-01-01 00:00:00.000000             pork  1280.0\n",
      "3   1944-01-01 00:00:00.000000  lamb_and_mutton    89.0\n",
      "4   1944-02-01 00:00:00.000000             beef   713.0\n",
      "5   1944-02-01 00:00:00.000000             veal    77.0\n",
      "6   1944-02-01 00:00:00.000000             pork  1169.0\n",
      "7   1944-02-01 00:00:00.000000  lamb_and_mutton    72.0\n",
      "8   1944-03-01 00:00:00.000000             beef   741.0\n",
      "9   1944-03-01 00:00:00.000000             veal    90.0\n",
      "10  1944-03-01 00:00:00.000000             pork  1128.0\n",
      "11  1944-03-01 00:00:00.000000  lamb_and_mutton    75.0\n",
      "12  1944-04-01 00:00:00.000000             beef   650.0\n",
      "13  1944-04-01 00:00:00.000000             veal    89.0\n",
      "14  1944-04-01 00:00:00.000000             pork   978.0\n",
      "15  1944-04-01 00:00:00.000000  lamb_and_mutton    66.0\n",
      "16  1944-05-01 00:00:00.000000             beef   681.0\n",
      "17  1944-05-01 00:00:00.000000             veal   106.0\n",
      "18  1944-05-01 00:00:00.000000             pork  1029.0\n",
      "19  1944-05-01 00:00:00.000000  lamb_and_mutton    78.0\n"
     ]
    }
   ],
   "source": [
    "q = \"\"\"\n",
    "        SELECT\n",
    "            date\n",
    "            , 'beef' AS meat_type\n",
    "            , beef AS value\n",
    "        FROM meat\n",
    "        UNION ALL\n",
    "        SELECT\n",
    "            date\n",
    "            , 'veal' AS meat_type\n",
    "            , veal AS value\n",
    "        FROM meat\n",
    "        \n",
    "        UNION ALL\n",
    "        \n",
    "        SELECT\n",
    "            date\n",
    "            , 'pork' AS meat_type\n",
    "            , pork AS value\n",
    "        FROM meat\n",
    "        UNION ALL\n",
    "        SELECT\n",
    "            date\n",
    "            , 'lamb_and_mutton' AS meat_type\n",
    "            , lamb_and_mutton AS value\n",
    "        FROM meat\n",
    "        ORDER BY 1\n",
    "    \"\"\"\n",
    "print(pysqldf(q).head(20))"
   ]
  },
  {
   "cell_type": "code",
   "execution_count": 49,
   "metadata": {
    "ExecuteTime": {
     "end_time": "2017-10-01T00:13:44.170860Z",
     "start_time": "2017-10-01T00:13:44.116841Z"
    }
   },
   "outputs": [
    {
     "name": "stdout",
     "output_type": "stream",
     "text": [
      "                         date    beef\n",
      "0  1960-01-01 00:00:00.000000  1196.0\n",
      "1  1960-02-01 00:00:00.000000  1089.0\n",
      "2  1960-03-01 00:00:00.000000  1201.0\n",
      "3  1960-04-01 00:00:00.000000  1066.0\n",
      "4  1960-05-01 00:00:00.000000  1202.0\n",
      "5  1960-06-01 00:00:00.000000  1247.0\n",
      "6  1960-07-01 00:00:00.000000  1166.0\n",
      "7  1960-08-01 00:00:00.000000  1307.0\n",
      "8  1960-09-01 00:00:00.000000  1298.0\n",
      "9  1960-10-01 00:00:00.000000  1263.0\n"
     ]
    }
   ],
   "source": [
    "q = \"\"\"\n",
    "    SELECT \n",
    "        m1.date\n",
    "        , m1.beef \n",
    "    FROM \n",
    "        meat m1 \n",
    "    WHERE m1.date IN \n",
    "        (SELECT \n",
    "            date \n",
    "        FROM meat \n",
    "        WHERE \n",
    "            beef >= broilers \n",
    "        ORDER BY date)\n",
    "\"\"\"\n",
    "\n",
    "more_beef_than_broilers = pysqldf(q)\n",
    "print(more_beef_than_broilers.head(10))"
   ]
  },
  {
   "cell_type": "code",
   "execution_count": null,
   "metadata": {
    "collapsed": true
   },
   "outputs": [],
   "source": []
  }
 ],
 "metadata": {
  "kernelspec": {
   "display_name": "Python [conda root]",
   "language": "python",
   "name": "conda-root-py"
  },
  "language_info": {
   "codemirror_mode": {
    "name": "ipython",
    "version": 3
   },
   "file_extension": ".py",
   "mimetype": "text/x-python",
   "name": "python",
   "nbconvert_exporter": "python",
   "pygments_lexer": "ipython3",
   "version": "3.5.3"
  },
  "latex_envs": {
   "LaTeX_envs_menu_present": true,
   "bibliofile": "biblio.bib",
   "cite_by": "apalike",
   "current_citInitial": 1,
   "eqLabelWithNumbers": true,
   "eqNumInitial": 1,
   "labels_anchors": false,
   "latex_user_defs": false,
   "report_style_numbering": false,
   "user_envs_cfg": false
  },
  "toc": {
   "colors": {
    "hover_highlight": "#DAA520",
    "running_highlight": "#FF0000",
    "selected_highlight": "#FFD700"
   },
   "moveMenuLeft": true,
   "nav_menu": {
    "height": "30px",
    "width": "252px"
   },
   "navigate_menu": true,
   "number_sections": false,
   "sideBar": true,
   "threshold": 4,
   "toc_cell": false,
   "toc_section_display": "block",
   "toc_window_display": false
  }
 },
 "nbformat": 4,
 "nbformat_minor": 2
}
